{
 "cells": [
  {
   "cell_type": "markdown",
   "id": "0e829c93",
   "metadata": {},
   "source": [
    "# Welcome to numpy tut"
   ]
  },
  {
   "cell_type": "code",
   "execution_count": 1,
   "id": "72dc35b0",
   "metadata": {},
   "outputs": [],
   "source": [
    "import numpy as np"
   ]
  },
  {
   "cell_type": "code",
   "execution_count": 3,
   "metadata": {},
   "outputs": [
    {
     "name": "stdout",
     "output_type": "stream",
     "text": [
      "a\n"
     ]
    }
   ],
   "source": [
    "d = {'a':24 , 'b':17, 'c':12}\n",
    "m = max(d.values())\n",
    "res = [k for k, v in d.items() if v==m]\n",
    "print(res[0])"
   ]
  },
  {
   "cell_type": "code",
   "execution_count": 5,
   "metadata": {},
   "outputs": [
    {
     "name": "stdout",
     "output_type": "stream",
     "text": [
      "1953175\n"
     ]
    }
   ],
   "source": [
    "a = 5\n",
    "b = 10\n",
    "print(a * b + a ** b // a)"
   ]
  },
  {
   "cell_type": "code",
   "execution_count": 7,
   "id": "2370707e",
   "metadata": {},
   "outputs": [],
   "source": [
    "myarr = np.array([[3,65555,32,7]], np.int64)  #here with the np.int64 we inc\n",
    "# the size of the integer ... as now larger int can be entered ... \n",
    "# we can also take int8  or 32 as per need\n",
    "# also float can be used too!"
   ]
  },
  {
   "cell_type": "code",
   "execution_count": 8,
   "id": "b01267b1",
   "metadata": {},
   "outputs": [
    {
     "data": {
      "text/plain": [
       "65555"
      ]
     },
     "execution_count": 8,
     "metadata": {},
     "output_type": "execute_result"
    }
   ],
   "source": [
    "myarr[0,1]"
   ]
  },
  {
   "cell_type": "code",
   "execution_count": 9,
   "id": "ad18126b",
   "metadata": {},
   "outputs": [
    {
     "data": {
      "text/plain": [
       "(1, 4)"
      ]
     },
     "execution_count": 9,
     "metadata": {},
     "output_type": "execute_result"
    }
   ],
   "source": [
    "myarr.shape    # this gives the no of rows and the columns"
   ]
  },
  {
   "cell_type": "code",
   "execution_count": 10,
   "id": "81ccd517",
   "metadata": {},
   "outputs": [
    {
     "data": {
      "text/plain": [
       "dtype('int64')"
      ]
     },
     "execution_count": 10,
     "metadata": {},
     "output_type": "execute_result"
    }
   ],
   "source": [
    "myarr.dtype"
   ]
  },
  {
   "cell_type": "code",
   "execution_count": 11,
   "id": "a1ca2bdc",
   "metadata": {},
   "outputs": [],
   "source": [
    "myarr[0,3] = 69   # we can modify"
   ]
  },
  {
   "cell_type": "code",
   "execution_count": 12,
   "id": "425b6a14",
   "metadata": {},
   "outputs": [
    {
     "data": {
      "text/plain": [
       "array([[    3, 65555,    32,    69]], dtype=int64)"
      ]
     },
     "execution_count": 12,
     "metadata": {},
     "output_type": "execute_result"
    }
   ],
   "source": [
    "myarr"
   ]
  },
  {
   "cell_type": "markdown",
   "id": "4b5a64ce",
   "metadata": {},
   "source": [
    "## Array creation: conversion from other python structures"
   ]
  },
  {
   "cell_type": "code",
   "execution_count": 13,
   "id": "2423b0e4",
   "metadata": {},
   "outputs": [],
   "source": [
    "listarray = np.array([[1,2,3],[5,8,5],[9,3,0]])"
   ]
  },
  {
   "cell_type": "code",
   "execution_count": 14,
   "id": "162d090c",
   "metadata": {},
   "outputs": [
    {
     "data": {
      "text/plain": [
       "array([[1, 2, 3],\n",
       "       [5, 8, 5],\n",
       "       [9, 3, 0]])"
      ]
     },
     "execution_count": 14,
     "metadata": {},
     "output_type": "execute_result"
    }
   ],
   "source": [
    "listarray"
   ]
  },
  {
   "cell_type": "code",
   "execution_count": 15,
   "metadata": {},
   "outputs": [
    {
     "data": {
      "text/plain": [
       "array([9, 3, 0])"
      ]
     },
     "execution_count": 15,
     "metadata": {},
     "output_type": "execute_result"
    }
   ],
   "source": [
    "listarray[2]"
   ]
  },
  {
   "cell_type": "code",
   "execution_count": 16,
   "id": "20af5aa3",
   "metadata": {},
   "outputs": [
    {
     "data": {
      "text/plain": [
       "dtype('int32')"
      ]
     },
     "execution_count": 16,
     "metadata": {},
     "output_type": "execute_result"
    }
   ],
   "source": [
    "listarray.dtype"
   ]
  },
  {
   "cell_type": "code",
   "execution_count": 18,
   "id": "63d5b5c0",
   "metadata": {},
   "outputs": [
    {
     "data": {
      "text/plain": [
       "(3, 3)"
      ]
     },
     "execution_count": 18,
     "metadata": {},
     "output_type": "execute_result"
    }
   ],
   "source": [
    "listarray.shape"
   ]
  },
  {
   "cell_type": "code",
   "execution_count": 19,
   "id": "0a4bada7",
   "metadata": {},
   "outputs": [
    {
     "data": {
      "text/plain": [
       "9"
      ]
     },
     "execution_count": 19,
     "metadata": {},
     "output_type": "execute_result"
    }
   ],
   "source": [
    "listarray.size"
   ]
  },
  {
   "cell_type": "code",
   "execution_count": 20,
   "id": "666c8354",
   "metadata": {},
   "outputs": [
    {
     "data": {
      "text/plain": [
       "array({34, 21, 54}, dtype=object)"
      ]
     },
     "execution_count": 20,
     "metadata": {},
     "output_type": "execute_result"
    }
   ],
   "source": [
    "np.array({34,54,21,21})"
   ]
  },
  {
   "cell_type": "code",
   "execution_count": 21,
   "id": "e95de2d6",
   "metadata": {},
   "outputs": [],
   "source": [
    "# this way the object array gets created!... so in data calculation mainly\n",
    "# use the int or the float type"
   ]
  },
  {
   "cell_type": "markdown",
   "id": "541e57ba",
   "metadata": {},
   "source": [
    "## using the instrinsic functions"
   ]
  },
  {
   "cell_type": "code",
   "execution_count": 22,
   "id": "ac2181b0",
   "metadata": {},
   "outputs": [],
   "source": [
    "zeros = np.zeros((4,7))  # this creates the array of assigned length filled\n",
    "# with the zeros"
   ]
  },
  {
   "cell_type": "code",
   "execution_count": 23,
   "id": "c06ad6b2",
   "metadata": {},
   "outputs": [
    {
     "data": {
      "text/plain": [
       "array([[0., 0., 0., 0., 0., 0., 0.],\n",
       "       [0., 0., 0., 0., 0., 0., 0.],\n",
       "       [0., 0., 0., 0., 0., 0., 0.],\n",
       "       [0., 0., 0., 0., 0., 0., 0.]])"
      ]
     },
     "execution_count": 23,
     "metadata": {},
     "output_type": "execute_result"
    }
   ],
   "source": [
    "zeros"
   ]
  },
  {
   "cell_type": "code",
   "execution_count": 24,
   "id": "7ef87762",
   "metadata": {},
   "outputs": [
    {
     "data": {
      "text/plain": [
       "dtype('float64')"
      ]
     },
     "execution_count": 24,
     "metadata": {},
     "output_type": "execute_result"
    }
   ],
   "source": [
    "zeros.dtype"
   ]
  },
  {
   "cell_type": "code",
   "execution_count": 25,
   "id": "2c6e6c9a",
   "metadata": {},
   "outputs": [],
   "source": [
    "range = np.arange(98)  # this gives the array from the 0 to n-1"
   ]
  },
  {
   "cell_type": "code",
   "execution_count": 26,
   "id": "80ae5462",
   "metadata": {},
   "outputs": [
    {
     "data": {
      "text/plain": [
       "array([ 0,  1,  2,  3,  4,  5,  6,  7,  8,  9, 10, 11, 12, 13, 14, 15, 16,\n",
       "       17, 18, 19, 20, 21, 22, 23, 24, 25, 26, 27, 28, 29, 30, 31, 32, 33,\n",
       "       34, 35, 36, 37, 38, 39, 40, 41, 42, 43, 44, 45, 46, 47, 48, 49, 50,\n",
       "       51, 52, 53, 54, 55, 56, 57, 58, 59, 60, 61, 62, 63, 64, 65, 66, 67,\n",
       "       68, 69, 70, 71, 72, 73, 74, 75, 76, 77, 78, 79, 80, 81, 82, 83, 84,\n",
       "       85, 86, 87, 88, 89, 90, 91, 92, 93, 94, 95, 96, 97])"
      ]
     },
     "execution_count": 26,
     "metadata": {},
     "output_type": "execute_result"
    }
   ],
   "source": [
    "range"
   ]
  },
  {
   "cell_type": "code",
   "execution_count": 27,
   "id": "972dec45",
   "metadata": {},
   "outputs": [],
   "source": [
    "lspace = np.linspace(1,50,7)  # this creates an array of size 7 with \n",
    "# numbers from 1 to 50 such that there's equal spacing btw them"
   ]
  },
  {
   "cell_type": "code",
   "execution_count": 28,
   "id": "22b109d6",
   "metadata": {},
   "outputs": [
    {
     "data": {
      "text/plain": [
       "array([ 1.        ,  9.16666667, 17.33333333, 25.5       , 33.66666667,\n",
       "       41.83333333, 50.        ])"
      ]
     },
     "execution_count": 28,
     "metadata": {},
     "output_type": "execute_result"
    }
   ],
   "source": [
    "lspace"
   ]
  },
  {
   "cell_type": "code",
   "execution_count": 29,
   "id": "5586a4db",
   "metadata": {},
   "outputs": [],
   "source": [
    "emp = np.empty((4,7))  #creates an empty array"
   ]
  },
  {
   "cell_type": "code",
   "execution_count": 30,
   "id": "a2a1a1ce",
   "metadata": {},
   "outputs": [
    {
     "data": {
      "text/plain": [
       "array([[0., 0., 0., 0., 0., 0., 0.],\n",
       "       [0., 0., 0., 0., 0., 0., 0.],\n",
       "       [0., 0., 0., 0., 0., 0., 0.],\n",
       "       [0., 0., 0., 0., 0., 0., 0.]])"
      ]
     },
     "execution_count": 30,
     "metadata": {},
     "output_type": "execute_result"
    }
   ],
   "source": [
    "emp"
   ]
  },
  {
   "cell_type": "code",
   "execution_count": 31,
   "id": "3b1cfccb",
   "metadata": {},
   "outputs": [],
   "source": [
    "emp_like = np.empty_like(lspace) # this makes empty array like that of given"
   ]
  },
  {
   "cell_type": "code",
   "execution_count": 32,
   "id": "837bd550",
   "metadata": {},
   "outputs": [
    {
     "data": {
      "text/plain": [
       "array([ 1.        ,  9.16666667, 17.33333333, 25.5       , 33.66666667,\n",
       "       41.83333333, 50.        ])"
      ]
     },
     "execution_count": 32,
     "metadata": {},
     "output_type": "execute_result"
    }
   ],
   "source": [
    "emp_like"
   ]
  },
  {
   "cell_type": "code",
   "execution_count": 33,
   "id": "3e6366fb",
   "metadata": {},
   "outputs": [],
   "source": [
    "ide = np.identity(15) # identity matrix of size given"
   ]
  },
  {
   "cell_type": "code",
   "execution_count": 34,
   "id": "e7311622",
   "metadata": {},
   "outputs": [
    {
     "data": {
      "text/plain": [
       "array([[1., 0., 0., 0., 0., 0., 0., 0., 0., 0., 0., 0., 0., 0., 0.],\n",
       "       [0., 1., 0., 0., 0., 0., 0., 0., 0., 0., 0., 0., 0., 0., 0.],\n",
       "       [0., 0., 1., 0., 0., 0., 0., 0., 0., 0., 0., 0., 0., 0., 0.],\n",
       "       [0., 0., 0., 1., 0., 0., 0., 0., 0., 0., 0., 0., 0., 0., 0.],\n",
       "       [0., 0., 0., 0., 1., 0., 0., 0., 0., 0., 0., 0., 0., 0., 0.],\n",
       "       [0., 0., 0., 0., 0., 1., 0., 0., 0., 0., 0., 0., 0., 0., 0.],\n",
       "       [0., 0., 0., 0., 0., 0., 1., 0., 0., 0., 0., 0., 0., 0., 0.],\n",
       "       [0., 0., 0., 0., 0., 0., 0., 1., 0., 0., 0., 0., 0., 0., 0.],\n",
       "       [0., 0., 0., 0., 0., 0., 0., 0., 1., 0., 0., 0., 0., 0., 0.],\n",
       "       [0., 0., 0., 0., 0., 0., 0., 0., 0., 1., 0., 0., 0., 0., 0.],\n",
       "       [0., 0., 0., 0., 0., 0., 0., 0., 0., 0., 1., 0., 0., 0., 0.],\n",
       "       [0., 0., 0., 0., 0., 0., 0., 0., 0., 0., 0., 1., 0., 0., 0.],\n",
       "       [0., 0., 0., 0., 0., 0., 0., 0., 0., 0., 0., 0., 1., 0., 0.],\n",
       "       [0., 0., 0., 0., 0., 0., 0., 0., 0., 0., 0., 0., 0., 1., 0.],\n",
       "       [0., 0., 0., 0., 0., 0., 0., 0., 0., 0., 0., 0., 0., 0., 1.]])"
      ]
     },
     "execution_count": 34,
     "metadata": {},
     "output_type": "execute_result"
    }
   ],
   "source": [
    "ide"
   ]
  },
  {
   "cell_type": "code",
   "execution_count": 35,
   "id": "2853243e",
   "metadata": {},
   "outputs": [
    {
     "data": {
      "text/plain": [
       "(15, 15)"
      ]
     },
     "execution_count": 35,
     "metadata": {},
     "output_type": "execute_result"
    }
   ],
   "source": [
    "ide.shape"
   ]
  },
  {
   "cell_type": "code",
   "execution_count": 37,
   "id": "930f6ba9",
   "metadata": {},
   "outputs": [
    {
     "data": {
      "text/plain": [
       "array([[ 0,  1,  2,  3,  4,  5,  6,  7,  8,  9, 10, 11, 12, 13],\n",
       "       [14, 15, 16, 17, 18, 19, 20, 21, 22, 23, 24, 25, 26, 27],\n",
       "       [28, 29, 30, 31, 32, 33, 34, 35, 36, 37, 38, 39, 40, 41],\n",
       "       [42, 43, 44, 45, 46, 47, 48, 49, 50, 51, 52, 53, 54, 55],\n",
       "       [56, 57, 58, 59, 60, 61, 62, 63, 64, 65, 66, 67, 68, 69],\n",
       "       [70, 71, 72, 73, 74, 75, 76, 77, 78, 79, 80, 81, 82, 83],\n",
       "       [84, 85, 86, 87, 88, 89, 90, 91, 92, 93, 94, 95, 96, 97]])"
      ]
     },
     "execution_count": 37,
     "metadata": {},
     "output_type": "execute_result"
    }
   ],
   "source": [
    "# we can reshape the arange in combination of the possibilities as 98 = 7*14\n",
    "range.reshape(7,14)"
   ]
  },
  {
   "cell_type": "code",
   "execution_count": 38,
   "id": "58352582",
   "metadata": {},
   "outputs": [
    {
     "data": {
      "text/plain": [
       "array([ 0,  1,  2,  3,  4,  5,  6,  7,  8,  9, 10, 11, 12, 13, 14, 15, 16,\n",
       "       17, 18, 19, 20, 21, 22, 23, 24, 25, 26, 27, 28, 29, 30, 31, 32, 33,\n",
       "       34, 35, 36, 37, 38, 39, 40, 41, 42, 43, 44, 45, 46, 47, 48, 49, 50,\n",
       "       51, 52, 53, 54, 55, 56, 57, 58, 59, 60, 61, 62, 63, 64, 65, 66, 67,\n",
       "       68, 69, 70, 71, 72, 73, 74, 75, 76, 77, 78, 79, 80, 81, 82, 83, 84,\n",
       "       85, 86, 87, 88, 89, 90, 91, 92, 93, 94, 95, 96, 97])"
      ]
     },
     "execution_count": 38,
     "metadata": {},
     "output_type": "execute_result"
    }
   ],
   "source": [
    "range # the original not changed until in it changes made\n",
    "range"
   ]
  },
  {
   "cell_type": "code",
   "execution_count": null,
   "id": "d2cb0712",
   "metadata": {},
   "outputs": [],
   "source": [
    "range = range.reshape(7,14)\n",
    "range"
   ]
  },
  {
   "cell_type": "code",
   "execution_count": null,
   "id": "b153f0f1",
   "metadata": {},
   "outputs": [],
   "source": [
    "# we can again make it straight by ravel\n",
    "range = range.ravel()\n",
    "range"
   ]
  },
  {
   "cell_type": "code",
   "execution_count": null,
   "id": "95deb66d",
   "metadata": {},
   "outputs": [],
   "source": [
    "range.shape"
   ]
  },
  {
   "cell_type": "markdown",
   "id": "2572761d",
   "metadata": {},
   "source": [
    "## axis of the arrays"
   ]
  },
  {
   "cell_type": "markdown",
   "id": "4ef9a745",
   "metadata": {},
   "source": [
    "# the number of the axes in array is equal to the dimension of array\n",
    "#### For 1D arrays there is only one axis viz; Axis0\n",
    "#### and since there is only one direction so this axis0 of 1D array is in the horizontal direction i.e. covering all the columns...\n",
    "#### for the 2D array there are two axes axis0 and the axis1 ; the axis0 is along the vertical directon covering all the rows and the axis1 is gorizontal here covetering all the columns"
   ]
  },
  {
   "cell_type": "code",
   "execution_count": null,
   "id": "895df915",
   "metadata": {},
   "outputs": [],
   "source": [
    "x = [[1,2,3],[4,8,6],[2,45,7]]"
   ]
  },
  {
   "cell_type": "code",
   "execution_count": null,
   "id": "b5cb24bd",
   "metadata": {},
   "outputs": [],
   "source": [
    "ar = np.array(x)"
   ]
  },
  {
   "cell_type": "raw",
   "id": "e8f6be8f",
   "metadata": {},
   "source": [
    "ar"
   ]
  },
  {
   "cell_type": "code",
   "execution_count": null,
   "id": "ccd2e989",
   "metadata": {},
   "outputs": [],
   "source": [
    "ar.sum(axis=0) # adds from all rows..."
   ]
  },
  {
   "cell_type": "code",
   "execution_count": null,
   "id": "90ce35bf",
   "metadata": {},
   "outputs": [],
   "source": [
    "ar.sum(axis=1) # adds from all columns..."
   ]
  },
  {
   "cell_type": "code",
   "execution_count": null,
   "id": "3f5ebdf8",
   "metadata": {},
   "outputs": [],
   "source": [
    "ar.T   # transpose"
   ]
  },
  {
   "cell_type": "code",
   "execution_count": null,
   "id": "c45260c9",
   "metadata": {},
   "outputs": [],
   "source": [
    "ar.flat   # this gives an iterator to travel the array"
   ]
  },
  {
   "cell_type": "code",
   "execution_count": null,
   "id": "b14d1f03",
   "metadata": {},
   "outputs": [],
   "source": [
    "for item in ar.flat:\n",
    "    print(item)"
   ]
  },
  {
   "cell_type": "code",
   "execution_count": null,
   "id": "dceb8013",
   "metadata": {},
   "outputs": [],
   "source": [
    "ar.ndim  # this gives no of dimension"
   ]
  },
  {
   "cell_type": "code",
   "execution_count": null,
   "id": "8a612a27",
   "metadata": {},
   "outputs": [],
   "source": [
    "ar.size # the total items"
   ]
  },
  {
   "cell_type": "code",
   "execution_count": null,
   "id": "6c561f2f",
   "metadata": {},
   "outputs": [],
   "source": [
    "ar.nbytes # gives the total bytes consumed"
   ]
  },
  {
   "cell_type": "code",
   "execution_count": null,
   "id": "3478dbeb",
   "metadata": {},
   "outputs": [],
   "source": [
    "one = np.array([1,2,5,8,69])"
   ]
  },
  {
   "cell_type": "code",
   "execution_count": null,
   "id": "ae818a2c",
   "metadata": {},
   "outputs": [],
   "source": [
    "one.argmax() # this gives the index of max element\n",
    "# () used when it is attribute"
   ]
  },
  {
   "cell_type": "code",
   "execution_count": null,
   "id": "8f111f57",
   "metadata": {},
   "outputs": [],
   "source": [
    "one.argmin() # index of min item"
   ]
  },
  {
   "cell_type": "code",
   "execution_count": null,
   "id": "232312d5",
   "metadata": {},
   "outputs": [],
   "source": [
    "one.argsort()  # gives the indices order when put then sorted"
   ]
  },
  {
   "cell_type": "code",
   "execution_count": null,
   "id": "970a469f",
   "metadata": {},
   "outputs": [],
   "source": [
    "ar"
   ]
  },
  {
   "cell_type": "code",
   "execution_count": null,
   "id": "a02c482c",
   "metadata": {},
   "outputs": [],
   "source": [
    "ar.argmin()  # in the 2D array the indexing start from the 0 and go thru\n",
    "# first row nd then thru the 2nd row till end..."
   ]
  },
  {
   "cell_type": "code",
   "execution_count": null,
   "id": "4e85cf78",
   "metadata": {},
   "outputs": [],
   "source": [
    "ar.argmax()"
   ]
  },
  {
   "cell_type": "code",
   "execution_count": null,
   "id": "afeedda3",
   "metadata": {},
   "outputs": [],
   "source": [
    "ar.argmax(axis=0) # in each of the axis0 i.e.in each vertical axis\n",
    "# the max element's index will be given by starting the index from 0 \n",
    "# each time starting from the top"
   ]
  },
  {
   "cell_type": "code",
   "execution_count": null,
   "id": "e96091d3",
   "metadata": {},
   "outputs": [],
   "source": [
    "ar.argmax(axis=1)  # simly for the horizontal"
   ]
  },
  {
   "cell_type": "code",
   "execution_count": null,
   "id": "969993d5",
   "metadata": {},
   "outputs": [],
   "source": [
    "ar.argsort(axis=1)  # this gives indices to sort in horizontal"
   ]
  },
  {
   "cell_type": "code",
   "execution_count": null,
   "id": "b572edb0",
   "metadata": {},
   "outputs": [],
   "source": [
    "ar.ravel()"
   ]
  },
  {
   "cell_type": "code",
   "execution_count": null,
   "id": "87498f9c",
   "metadata": {},
   "outputs": [],
   "source": [
    "ar.reshape(9,1)"
   ]
  },
  {
   "cell_type": "code",
   "execution_count": null,
   "id": "9575717c",
   "metadata": {},
   "outputs": [],
   "source": [
    "ar2 = np.array([[1,5,9],\n",
    "              [8,4,-1],\n",
    "              [2,6,1]])"
   ]
  },
  {
   "cell_type": "code",
   "execution_count": null,
   "id": "aaa510be",
   "metadata": {},
   "outputs": [],
   "source": [
    "ar + ar2  # simply adds the arrays... this ain't possible in lists"
   ]
  },
  {
   "cell_type": "code",
   "execution_count": null,
   "id": "97783cf0",
   "metadata": {},
   "outputs": [],
   "source": [
    "[54,98] + [12,36]"
   ]
  },
  {
   "cell_type": "code",
   "execution_count": null,
   "id": "92fb3434",
   "metadata": {},
   "outputs": [],
   "source": [
    "ar*ar2 # this ain't matrix multiplication, simply multiplying corresponding"
   ]
  },
  {
   "cell_type": "code",
   "execution_count": null,
   "id": "54ddcc70",
   "metadata": {},
   "outputs": [],
   "source": [
    "np.sqrt(ar) # element wise square root"
   ]
  },
  {
   "cell_type": "code",
   "execution_count": null,
   "id": "2058678e",
   "metadata": {},
   "outputs": [],
   "source": [
    "ar.sum()  # sum of all"
   ]
  },
  {
   "cell_type": "code",
   "execution_count": null,
   "id": "38afc912",
   "metadata": {},
   "outputs": [],
   "source": [
    "ar"
   ]
  },
  {
   "cell_type": "code",
   "execution_count": null,
   "id": "68e9df9b",
   "metadata": {},
   "outputs": [],
   "source": [
    "np.where(ar>5)  # gives the tuples of the places where >5... indexing from 0"
   ]
  },
  {
   "cell_type": "code",
   "execution_count": null,
   "id": "bc149cc8",
   "metadata": {},
   "outputs": [],
   "source": [
    "np.count_nonzero(ar)  # no of non zeros"
   ]
  },
  {
   "cell_type": "code",
   "execution_count": null,
   "id": "2757c97d",
   "metadata": {},
   "outputs": [],
   "source": [
    "np.nonzero(ar)  # tuples of the non zeros"
   ]
  },
  {
   "cell_type": "code",
   "execution_count": null,
   "id": "124d8f04",
   "metadata": {},
   "outputs": [],
   "source": [
    "import sys  # let see the size comparison"
   ]
  },
  {
   "cell_type": "code",
   "execution_count": null,
   "id": "bc498c9a",
   "metadata": {},
   "outputs": [],
   "source": [
    "py_ar = [0,4,8,45]"
   ]
  },
  {
   "cell_type": "code",
   "execution_count": null,
   "id": "ea356ba8",
   "metadata": {},
   "outputs": [],
   "source": [
    "np_ar = np.array(py_ar)"
   ]
  },
  {
   "cell_type": "code",
   "execution_count": null,
   "id": "c05719ba",
   "metadata": {},
   "outputs": [],
   "source": [
    "sys.getsizeof(1) * len(py_ar)"
   ]
  },
  {
   "cell_type": "code",
   "execution_count": null,
   "id": "da85d0bb",
   "metadata": {},
   "outputs": [],
   "source": [
    "np_ar.itemsize * np_ar.size"
   ]
  },
  {
   "cell_type": "code",
   "execution_count": null,
   "id": "1a11d894",
   "metadata": {},
   "outputs": [],
   "source": [
    "np_ar.tolist()  # converts np array to the list"
   ]
  },
  {
   "cell_type": "markdown",
   "id": "ec5e5eaa",
   "metadata": {},
   "source": [
    "##### here the array for the negative indexing the indexing starts from the end side... \n",
    "##### Also, for the slicing of the arrays there is one more property...Slicing creates an array of indices using a set of three values (start:stop:step)."
   ]
  },
  {
   "cell_type": "code",
   "execution_count": null,
   "id": "0f872ec9",
   "metadata": {},
   "outputs": [],
   "source": []
  }
 ],
 "metadata": {
  "kernelspec": {
   "display_name": "Python 3 (ipykernel)",
   "language": "python",
   "name": "python3"
  },
  "language_info": {
   "codemirror_mode": {
    "name": "ipython",
    "version": 3
   },
   "file_extension": ".py",
   "mimetype": "text/x-python",
   "name": "python",
   "nbconvert_exporter": "python",
   "pygments_lexer": "ipython3",
   "version": "3.11.3"
  }
 },
 "nbformat": 4,
 "nbformat_minor": 5
}
